{
 "cells": [
  {
   "cell_type": "code",
   "execution_count": 5,
   "id": "b93c5853-212b-4346-81e6-3eaa23ce9ce9",
   "metadata": {},
   "outputs": [
    {
     "name": "stdout",
     "output_type": "stream",
     "text": [
      "Requirement already satisfied: folium in /Users/parkjuyong/.pyenv/versions/3.11.13/envs/dc-venv/lib/python3.11/site-packages (0.20.0)\n",
      "Requirement already satisfied: python-dotenv in /Users/parkjuyong/.pyenv/versions/3.11.13/envs/dc-venv/lib/python3.11/site-packages (1.1.1)\n",
      "Requirement already satisfied: branca>=0.6.0 in /Users/parkjuyong/.pyenv/versions/3.11.13/envs/dc-venv/lib/python3.11/site-packages (from folium) (0.8.2)\n",
      "Requirement already satisfied: jinja2>=2.9 in /Users/parkjuyong/.pyenv/versions/3.11.13/envs/dc-venv/lib/python3.11/site-packages (from folium) (3.1.6)\n",
      "Requirement already satisfied: numpy in /Users/parkjuyong/.pyenv/versions/3.11.13/envs/dc-venv/lib/python3.11/site-packages (from folium) (2.3.4)\n",
      "Requirement already satisfied: requests in /Users/parkjuyong/.pyenv/versions/3.11.13/envs/dc-venv/lib/python3.11/site-packages (from folium) (2.32.5)\n",
      "Requirement already satisfied: xyzservices in /Users/parkjuyong/.pyenv/versions/3.11.13/envs/dc-venv/lib/python3.11/site-packages (from folium) (2025.4.0)\n",
      "Requirement already satisfied: MarkupSafe>=2.0 in /Users/parkjuyong/.pyenv/versions/3.11.13/envs/dc-venv/lib/python3.11/site-packages (from jinja2>=2.9->folium) (3.0.3)\n",
      "Requirement already satisfied: charset_normalizer<4,>=2 in /Users/parkjuyong/.pyenv/versions/3.11.13/envs/dc-venv/lib/python3.11/site-packages (from requests->folium) (3.4.4)\n",
      "Requirement already satisfied: idna<4,>=2.5 in /Users/parkjuyong/.pyenv/versions/3.11.13/envs/dc-venv/lib/python3.11/site-packages (from requests->folium) (3.11)\n",
      "Requirement already satisfied: urllib3<3,>=1.21.1 in /Users/parkjuyong/.pyenv/versions/3.11.13/envs/dc-venv/lib/python3.11/site-packages (from requests->folium) (2.5.0)\n",
      "Requirement already satisfied: certifi>=2017.4.17 in /Users/parkjuyong/.pyenv/versions/3.11.13/envs/dc-venv/lib/python3.11/site-packages (from requests->folium) (2025.10.5)\n",
      "\n",
      "\u001b[1m[\u001b[0m\u001b[34;49mnotice\u001b[0m\u001b[1;39;49m]\u001b[0m\u001b[39;49m A new release of pip is available: \u001b[0m\u001b[31;49m24.0\u001b[0m\u001b[39;49m -> \u001b[0m\u001b[32;49m25.2\u001b[0m\n",
      "\u001b[1m[\u001b[0m\u001b[34;49mnotice\u001b[0m\u001b[1;39;49m]\u001b[0m\u001b[39;49m To update, run: \u001b[0m\u001b[32;49mpython -m pip install --upgrade pip\u001b[0m\n"
     ]
    }
   ],
   "source": [
    "!pip install folium python-dotenv"
   ]
  },
  {
   "cell_type": "code",
   "execution_count": 6,
   "id": "cf217f3b-a2c3-458d-8f58-862615f3273b",
   "metadata": {},
   "outputs": [],
   "source": [
    "import os\n",
    "import requests\n",
    "from dotenv import load_dotenv"
   ]
  },
  {
   "cell_type": "code",
   "execution_count": 7,
   "id": "d74a8ab5-9172-44ad-9429-76424756ed25",
   "metadata": {},
   "outputs": [],
   "source": [
    "load_dotenv()\n",
    "API_KEY = os.getenv(\"KAKAO_API_KEY\")"
   ]
  },
  {
   "cell_type": "code",
   "execution_count": 8,
   "id": "a44d19f8-48a6-49d5-b798-aa2252eae498",
   "metadata": {},
   "outputs": [],
   "source": [
    "def search_places(keyword, page=1, size=15):\n",
    "    url = \"https://dapi.kakao.com/v2/local/search/keyword.json\"\n",
    "    headers = {\"Authorization\": f\"KakaoAK {API_KEY}\"}\n",
    "    params = {\"query\": keyword, \"page\": page, \"size\": size}\n",
    "    resp = requests.get(url, headers=headers, params=params)\n",
    "    resp.raise_for_status()\n",
    "    return resp.json()"
   ]
  },
  {
   "cell_type": "code",
   "execution_count": 9,
   "id": "b310bcc8-1d7c-4ee0-a0de-7f01239471d9",
   "metadata": {},
   "outputs": [
    {
     "name": "stdin",
     "output_type": "stream",
     "text": [
      " 서경대 맛집\n"
     ]
    }
   ],
   "source": [
    "keyword = input()"
   ]
  },
  {
   "cell_type": "code",
   "execution_count": 10,
   "id": "4c42bbd3-a1f1-403b-8ad1-a64af32b037a",
   "metadata": {},
   "outputs": [],
   "source": [
    "data = search_places(keyword, page=1, size=10)"
   ]
  },
  {
   "cell_type": "code",
   "execution_count": 11,
   "id": "afff946b-68fe-4fbf-bcbc-fda3f2d20e47",
   "metadata": {},
   "outputs": [
    {
     "name": "stdout",
     "output_type": "stream",
     "text": [
      "meta: {'is_end': False, 'pageable_count': 45, 'same_name': {'keyword': '맛집', 'region': [], 'selected_region': '서울 성북구 서경대'}, 'total_count': 5431}\n"
     ]
    }
   ],
   "source": [
    "print(\"meta:\", data.get(\"meta\"))"
   ]
  },
  {
   "cell_type": "code",
   "execution_count": 12,
   "id": "152a3f1e-f377-45c4-b7c8-aa85d0d0e35b",
   "metadata": {},
   "outputs": [
    {
     "name": "stdout",
     "output_type": "stream",
     "text": [
      "청년밥상문간 서울 성북구 정릉동 398-8 010-2808-6031\n",
      "동방손칼국수 서울 성북구 정릉동 1013 02-909-5953\n",
      "지하서재 서울 성북구 정릉동 266-328 02-941-1834\n",
      "마몽함박 서울 성북구 정릉동 289-50 02-6083-2188\n",
      "기차순대국 서울 성북구 정릉동 347-2 02-914-9316\n",
      "소우락정육식당 정릉본점 서울 성북구 정릉동 284-13 02-911-9500\n",
      "홈타운바베큐치킨 서울 성북구 정릉동 227 02-914-0011\n",
      "임금님수타자장면 서울 성북구 정릉동 298-2 02-914-1831\n",
      "청수장 서울 성북구 정릉동 416-27 02-913-6176\n",
      "명륜진사갈비 서울미아점 서울 강북구 미아동 811-1 02-981-6669\n"
     ]
    }
   ],
   "source": [
    "for doc in data.get(\"documents\", []):\n",
    "    print(doc[\"place_name\"], doc[\"address_name\"], doc[\"phone\"])"
   ]
  },
  {
   "cell_type": "code",
   "execution_count": 13,
   "id": "f151d5a5-e7f2-4fb8-80a9-2874eab520c9",
   "metadata": {},
   "outputs": [],
   "source": [
    "import pandas as pd"
   ]
  },
  {
   "cell_type": "code",
   "execution_count": 14,
   "id": "39854ba2-1ffe-40f3-82de-d10868a80bd4",
   "metadata": {},
   "outputs": [],
   "source": [
    "def docs_to_df(documents):\n",
    "    rows = []\n",
    "    for d in documents:\n",
    "        rows.append({\n",
    "            \"id\":d.get(\"id\"),\n",
    "            \"place_name\":d.get(\"place_name\"),\n",
    "            \"category_name\":d.get(\"category_name\"),\n",
    "            \"phone\":d.get(\"phone\"),\n",
    "            \"address\":d.get(\"address_name\"),\n",
    "            \"road_address\":d.get(\"road_address_name\"),\n",
    "            \"x\": float(d.get(\"x\")) if d.get(\"x\") else None,\n",
    "            \"y\": float(d.get(\"x\")) if d.get(\"y\") else None,\n",
    "            \"place_url\":d.get(\"palce_url\"),\n",
    "        })\n",
    "    return pd.DataFrame(rows)"
   ]
  },
  {
   "cell_type": "code",
   "execution_count": 15,
   "id": "e3e31365-17ba-4efb-9ad5-4ab454931585",
   "metadata": {},
   "outputs": [],
   "source": [
    "# keyword = input()"
   ]
  },
  {
   "cell_type": "code",
   "execution_count": 16,
   "id": "0bbef81a-a5ae-4ef0-8a33-e9ffd30470ea",
   "metadata": {},
   "outputs": [],
   "source": [
    "dfs = []\n",
    "page = 1\n",
    "\n",
    "while True:\n",
    "    res = search_places(keyword, page=page, size=10)\n",
    "    df = docs_to_df(res[\"documents\"])\n",
    "    dfs.append(df)\n",
    "\n",
    "    if res[\"meta\"][\"is_end\"]: # 마지막 페이지면 중단\n",
    "        break\n",
    "\n",
    "    page += 1 # 다음 페이지로"
   ]
  },
  {
   "cell_type": "code",
   "execution_count": 17,
   "id": "d3d1ca21-a73b-44a2-8236-eaf79d1b1c00",
   "metadata": {},
   "outputs": [],
   "source": [
    "result = pd.concat(dfs, ignore_index=True)"
   ]
  },
  {
   "cell_type": "code",
   "execution_count": 18,
   "id": "36382132-5824-4461-9d30-1666f3ced763",
   "metadata": {},
   "outputs": [
    {
     "name": "stdout",
     "output_type": "stream",
     "text": [
      "(45, 9)\n"
     ]
    },
    {
     "data": {
      "text/html": [
       "<div>\n",
       "<style scoped>\n",
       "    .dataframe tbody tr th:only-of-type {\n",
       "        vertical-align: middle;\n",
       "    }\n",
       "\n",
       "    .dataframe tbody tr th {\n",
       "        vertical-align: top;\n",
       "    }\n",
       "\n",
       "    .dataframe thead th {\n",
       "        text-align: right;\n",
       "    }\n",
       "</style>\n",
       "<table border=\"1\" class=\"dataframe\">\n",
       "  <thead>\n",
       "    <tr style=\"text-align: right;\">\n",
       "      <th></th>\n",
       "      <th>id</th>\n",
       "      <th>place_name</th>\n",
       "      <th>category_name</th>\n",
       "      <th>phone</th>\n",
       "      <th>address</th>\n",
       "      <th>road_address</th>\n",
       "      <th>x</th>\n",
       "      <th>y</th>\n",
       "      <th>place_url</th>\n",
       "    </tr>\n",
       "  </thead>\n",
       "  <tbody>\n",
       "    <tr>\n",
       "      <th>0</th>\n",
       "      <td>1949561591</td>\n",
       "      <td>청년밥상문간</td>\n",
       "      <td>음식점 &gt; 한식 &gt; 찌개,전골</td>\n",
       "      <td>010-2808-6031</td>\n",
       "      <td>서울 성북구 정릉동 398-8</td>\n",
       "      <td>서울 성북구 보국문로11길 18-2</td>\n",
       "      <td>127.009121</td>\n",
       "      <td>127.009121</td>\n",
       "      <td>None</td>\n",
       "    </tr>\n",
       "    <tr>\n",
       "      <th>1</th>\n",
       "      <td>16819186</td>\n",
       "      <td>동방손칼국수</td>\n",
       "      <td>음식점 &gt; 한식 &gt; 국수 &gt; 칼국수</td>\n",
       "      <td>02-909-5953</td>\n",
       "      <td>서울 성북구 정릉동 1013</td>\n",
       "      <td>서울 성북구 서경로 91</td>\n",
       "      <td>127.013686</td>\n",
       "      <td>127.013686</td>\n",
       "      <td>None</td>\n",
       "    </tr>\n",
       "    <tr>\n",
       "      <th>2</th>\n",
       "      <td>2118043633</td>\n",
       "      <td>지하서재</td>\n",
       "      <td>음식점 &gt; 술집</td>\n",
       "      <td>02-941-1834</td>\n",
       "      <td>서울 성북구 정릉동 266-328</td>\n",
       "      <td>서울 성북구 보국문로18길 34</td>\n",
       "      <td>127.010510</td>\n",
       "      <td>127.010510</td>\n",
       "      <td>None</td>\n",
       "    </tr>\n",
       "    <tr>\n",
       "      <th>3</th>\n",
       "      <td>1536393758</td>\n",
       "      <td>마몽함박</td>\n",
       "      <td>음식점 &gt; 양식 &gt; 스테이크,립</td>\n",
       "      <td>02-6083-2188</td>\n",
       "      <td>서울 성북구 정릉동 289-50</td>\n",
       "      <td>서울 성북구 보국문로 92</td>\n",
       "      <td>127.008257</td>\n",
       "      <td>127.008257</td>\n",
       "      <td>None</td>\n",
       "    </tr>\n",
       "    <tr>\n",
       "      <th>4</th>\n",
       "      <td>16501643</td>\n",
       "      <td>기차순대국</td>\n",
       "      <td>음식점 &gt; 한식 &gt; 순대</td>\n",
       "      <td>02-914-9316</td>\n",
       "      <td>서울 성북구 정릉동 347-2</td>\n",
       "      <td>서울 성북구 솔샘로18길 91</td>\n",
       "      <td>127.008713</td>\n",
       "      <td>127.008713</td>\n",
       "      <td>None</td>\n",
       "    </tr>\n",
       "  </tbody>\n",
       "</table>\n",
       "</div>"
      ],
      "text/plain": [
       "           id place_name        category_name          phone  \\\n",
       "0  1949561591     청년밥상문간     음식점 > 한식 > 찌개,전골  010-2808-6031   \n",
       "1    16819186     동방손칼국수  음식점 > 한식 > 국수 > 칼국수    02-909-5953   \n",
       "2  2118043633       지하서재             음식점 > 술집    02-941-1834   \n",
       "3  1536393758       마몽함박    음식점 > 양식 > 스테이크,립   02-6083-2188   \n",
       "4    16501643      기차순대국        음식점 > 한식 > 순대    02-914-9316   \n",
       "\n",
       "              address         road_address           x           y place_url  \n",
       "0    서울 성북구 정릉동 398-8  서울 성북구 보국문로11길 18-2  127.009121  127.009121      None  \n",
       "1     서울 성북구 정릉동 1013        서울 성북구 서경로 91  127.013686  127.013686      None  \n",
       "2  서울 성북구 정릉동 266-328    서울 성북구 보국문로18길 34  127.010510  127.010510      None  \n",
       "3   서울 성북구 정릉동 289-50       서울 성북구 보국문로 92  127.008257  127.008257      None  \n",
       "4    서울 성북구 정릉동 347-2     서울 성북구 솔샘로18길 91  127.008713  127.008713      None  "
      ]
     },
     "execution_count": 18,
     "metadata": {},
     "output_type": "execute_result"
    }
   ],
   "source": [
    "print(result.shape)\n",
    "result.head()"
   ]
  },
  {
   "cell_type": "code",
   "execution_count": 19,
   "id": "24ea7764-e2e7-4ea8-8ebf-d103aadb50dc",
   "metadata": {},
   "outputs": [],
   "source": [
    "result.to_csv(f\"{keyword}_places.csv\", index=False, encoding=\"utf-8-sig\")"
   ]
  },
  {
   "cell_type": "code",
   "execution_count": 20,
   "id": "469ee973-1d2e-4d2b-8e31-f30d3f473eba",
   "metadata": {},
   "outputs": [
    {
     "name": "stdout",
     "output_type": "stream",
     "text": [
      "Requirement already satisfied: folium in /Users/parkjuyong/.pyenv/versions/3.11.13/envs/dc-venv/lib/python3.11/site-packages (0.20.0)\n",
      "Requirement already satisfied: branca>=0.6.0 in /Users/parkjuyong/.pyenv/versions/3.11.13/envs/dc-venv/lib/python3.11/site-packages (from folium) (0.8.2)\n",
      "Requirement already satisfied: jinja2>=2.9 in /Users/parkjuyong/.pyenv/versions/3.11.13/envs/dc-venv/lib/python3.11/site-packages (from folium) (3.1.6)\n",
      "Requirement already satisfied: numpy in /Users/parkjuyong/.pyenv/versions/3.11.13/envs/dc-venv/lib/python3.11/site-packages (from folium) (2.3.4)\n",
      "Requirement already satisfied: requests in /Users/parkjuyong/.pyenv/versions/3.11.13/envs/dc-venv/lib/python3.11/site-packages (from folium) (2.32.5)\n",
      "Requirement already satisfied: xyzservices in /Users/parkjuyong/.pyenv/versions/3.11.13/envs/dc-venv/lib/python3.11/site-packages (from folium) (2025.4.0)\n",
      "Requirement already satisfied: MarkupSafe>=2.0 in /Users/parkjuyong/.pyenv/versions/3.11.13/envs/dc-venv/lib/python3.11/site-packages (from jinja2>=2.9->folium) (3.0.3)\n",
      "Requirement already satisfied: charset_normalizer<4,>=2 in /Users/parkjuyong/.pyenv/versions/3.11.13/envs/dc-venv/lib/python3.11/site-packages (from requests->folium) (3.4.4)\n",
      "Requirement already satisfied: idna<4,>=2.5 in /Users/parkjuyong/.pyenv/versions/3.11.13/envs/dc-venv/lib/python3.11/site-packages (from requests->folium) (3.11)\n",
      "Requirement already satisfied: urllib3<3,>=1.21.1 in /Users/parkjuyong/.pyenv/versions/3.11.13/envs/dc-venv/lib/python3.11/site-packages (from requests->folium) (2.5.0)\n",
      "Requirement already satisfied: certifi>=2017.4.17 in /Users/parkjuyong/.pyenv/versions/3.11.13/envs/dc-venv/lib/python3.11/site-packages (from requests->folium) (2025.10.5)\n",
      "\n",
      "\u001b[1m[\u001b[0m\u001b[34;49mnotice\u001b[0m\u001b[1;39;49m]\u001b[0m\u001b[39;49m A new release of pip is available: \u001b[0m\u001b[31;49m24.0\u001b[0m\u001b[39;49m -> \u001b[0m\u001b[32;49m25.2\u001b[0m\n",
      "\u001b[1m[\u001b[0m\u001b[34;49mnotice\u001b[0m\u001b[1;39;49m]\u001b[0m\u001b[39;49m To update, run: \u001b[0m\u001b[32;49mpython -m pip install --upgrade pip\u001b[0m\n"
     ]
    }
   ],
   "source": [
    "!pip install folium"
   ]
  },
  {
   "cell_type": "code",
   "execution_count": 21,
   "id": "eeec95c5-9cf5-49b8-a728-aa32fc050110",
   "metadata": {},
   "outputs": [],
   "source": [
    "import folium"
   ]
  },
  {
   "cell_type": "code",
   "execution_count": 22,
   "id": "fa2f182e-6b8b-47dd-b9c7-a42ebc41e07d",
   "metadata": {},
   "outputs": [],
   "source": [
    "df = pd.read_csv(f\"{keyword}_places.csv\")\n",
    "center = [37.61498, 127.0134] # 서경대 위도\n",
    "m = folium.Map(location=center, zoom_start=16)"
   ]
  },
  {
   "cell_type": "code",
   "execution_count": 23,
   "id": "a6d01863-211d-4161-ac88-b527c1ce3456",
   "metadata": {},
   "outputs": [
    {
     "ename": "AttributeError",
     "evalue": "module 'folium' has no attribute 'Maker'",
     "output_type": "error",
     "traceback": [
      "\u001b[0;31m---------------------------------------------------------------------------\u001b[0m",
      "\u001b[0;31mAttributeError\u001b[0m                            Traceback (most recent call last)",
      "Cell \u001b[0;32mIn[23], line 2\u001b[0m\n\u001b[1;32m      1\u001b[0m \u001b[38;5;28;01mfor\u001b[39;00m _, row \u001b[38;5;129;01min\u001b[39;00m df\u001b[38;5;241m.\u001b[39mdropna(subset\u001b[38;5;241m=\u001b[39m[\u001b[38;5;124m\"\u001b[39m\u001b[38;5;124my\u001b[39m\u001b[38;5;124m\"\u001b[39m,\u001b[38;5;124m\"\u001b[39m\u001b[38;5;124mx\u001b[39m\u001b[38;5;124m\"\u001b[39m])\u001b[38;5;241m.\u001b[39miterrows():\n\u001b[0;32m----> 2\u001b[0m     folium\u001b[38;5;241m.\u001b[39mMaker(\n\u001b[1;32m      3\u001b[0m         [row[\u001b[38;5;124m\"\u001b[39m\u001b[38;5;124my\u001b[39m\u001b[38;5;124m\"\u001b[39m], row[\u001b[38;5;124m\"\u001b[39m\u001b[38;5;124mx\u001b[39m\u001b[38;5;124m\"\u001b[39m]],\n\u001b[1;32m      4\u001b[0m         popup\u001b[38;5;241m=\u001b[39m\u001b[38;5;124mf\u001b[39m\u001b[38;5;124m\"\u001b[39m\u001b[38;5;132;01m{\u001b[39;00mrow[\u001b[38;5;124m'\u001b[39m\u001b[38;5;124mplace_name\u001b[39m\u001b[38;5;124m'\u001b[39m]\u001b[38;5;132;01m}\u001b[39;00m\u001b[38;5;124m<br>\u001b[39m\u001b[38;5;132;01m{\u001b[39;00mrow[\u001b[38;5;124m'\u001b[39m\u001b[38;5;124mcategory_name\u001b[39m\u001b[38;5;124m'\u001b[39m]\u001b[38;5;132;01m}\u001b[39;00m\u001b[38;5;124m\"\u001b[39m,\n\u001b[1;32m      5\u001b[0m         tooltip\u001b[38;5;241m=\u001b[39mrow[\u001b[38;5;124m\"\u001b[39m\u001b[38;5;124mplace_name\u001b[39m\u001b[38;5;124m\"\u001b[39m]\n\u001b[1;32m      6\u001b[0m     )\u001b[38;5;241m.\u001b[39madd_to(m)\n",
      "\u001b[0;31mAttributeError\u001b[0m: module 'folium' has no attribute 'Maker'"
     ]
    }
   ],
   "source": [
    "for _, row in df.dropna(subset=[\"y\",\"x\"]).iterrows():\n",
    "    folium.Maker(\n",
    "        [row[\"y\"], row[\"x\"]],\n",
    "        popup=f\"{row['place_name']}<br>{row['category_name']}\",\n",
    "        tooltip=row[\"place_name\"]\n",
    "    ).add_to(m)"
   ]
  },
  {
   "cell_type": "code",
   "execution_count": 24,
   "id": "cee17a37-a484-4f58-90f0-40da021d9252",
   "metadata": {},
   "outputs": [
    {
     "name": "stdout",
     "output_type": "stream",
     "text": [
      "Saved: 서경대 맛집_places_map.html\n"
     ]
    }
   ],
   "source": [
    "fname = f\"{keyword}_placesmap.html\"\n",
    "m.save(fname)\n",
    "print(f\"Saved: {keyword}_places_map.html\")"
   ]
  },
  {
   "cell_type": "code",
   "execution_count": 25,
   "id": "bb5a25bb-c38e-417f-a462-05da72aa328c",
   "metadata": {},
   "outputs": [],
   "source": [
    "import webbrowser"
   ]
  },
  {
   "cell_type": "code",
   "execution_count": 26,
   "id": "224e9c74-94fb-4056-8bbc-02de192e42f8",
   "metadata": {},
   "outputs": [
    {
     "name": "stderr",
     "output_type": "stream",
     "text": [
      "0:104: execution error: 일부 대상체 파일을 발견할 수 없습니다. (-43)\n"
     ]
    },
    {
     "data": {
      "text/plain": [
       "True"
      ]
     },
     "execution_count": 26,
     "metadata": {},
     "output_type": "execute_result"
    }
   ],
   "source": [
    "path = os.path.abspath(fname)\n",
    "url = \"file://\" + path\n",
    "webbrowser.open(url, new=2)"
   ]
  },
  {
   "cell_type": "code",
   "execution_count": null,
   "id": "2e653e53-e341-44e8-813f-9fb2315aec3c",
   "metadata": {},
   "outputs": [],
   "source": []
  }
 ],
 "metadata": {
  "kernelspec": {
   "display_name": "Python 3 (ipykernel)",
   "language": "python",
   "name": "python3"
  },
  "language_info": {
   "codemirror_mode": {
    "name": "ipython",
    "version": 3
   },
   "file_extension": ".py",
   "mimetype": "text/x-python",
   "name": "python",
   "nbconvert_exporter": "python",
   "pygments_lexer": "ipython3",
   "version": "3.13.5"
  }
 },
 "nbformat": 4,
 "nbformat_minor": 5
}
